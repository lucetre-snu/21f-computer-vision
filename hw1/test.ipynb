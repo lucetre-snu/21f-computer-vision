{
 "cells": [
  {
   "cell_type": "code",
   "execution_count": 8,
   "metadata": {},
   "outputs": [
    {
     "data": {
      "text/plain": [
       "array([[0, 1, 2],\n",
       "       [3, 4, 5],\n",
       "       [6, 7, 8]])"
      ]
     },
     "execution_count": 8,
     "metadata": {},
     "output_type": "execute_result"
    }
   ],
   "source": [
    "import numpy as np\n",
    "A = np.arange(9).reshape((3,3)); A"
   ]
  },
  {
   "cell_type": "code",
   "execution_count": 9,
   "metadata": {},
   "outputs": [
    {
     "data": {
      "text/plain": [
       "array([[8, 7, 6, 7, 8, 7, 6],\n",
       "       [5, 4, 3, 4, 5, 4, 3],\n",
       "       [2, 1, 0, 1, 2, 1, 0],\n",
       "       [5, 4, 3, 4, 5, 4, 3],\n",
       "       [8, 7, 6, 7, 8, 7, 6],\n",
       "       [5, 4, 3, 4, 5, 4, 3],\n",
       "       [2, 1, 0, 1, 2, 1, 0]])"
      ]
     },
     "execution_count": 9,
     "metadata": {},
     "output_type": "execute_result"
    }
   ],
   "source": [
    "np.pad(A, mode='reflect', pad_width=2)"
   ]
  },
  {
   "cell_type": "code",
   "execution_count": 60,
   "metadata": {},
   "outputs": [
    {
     "data": {
      "text/plain": [
       "array([[8., 7., 6., 7., 8., 7., 6.],\n",
       "       [5., 4., 3., 4., 5., 4., 3.],\n",
       "       [2., 1., 0., 1., 2., 1., 0.],\n",
       "       [5., 4., 3., 4., 5., 4., 3.],\n",
       "       [8., 7., 6., 7., 8., 7., 6.],\n",
       "       [5., 4., 3., 4., 5., 4., 3.],\n",
       "       [2., 1., 0., 1., 2., 1., 0.]])"
      ]
     },
     "execution_count": 60,
     "metadata": {},
     "output_type": "execute_result"
    }
   ],
   "source": [
    "size = (5, 5)\n",
    "pad = (size[0]//2, size[1]//2)\n",
    "shape = A.shape\n",
    "B = np.zeros((shape[0]+size[0]-1, shape[1]+size[1]-1))\n",
    "for i in range(shape[0]):\n",
    "    for j in range(shape[1]):\n",
    "        B[pad[0]+i][pad[1]+j] = A[i][j]\n",
    "\n",
    "for i in range(pad[0]):\n",
    "    for j in range(pad[1]):\n",
    "        B[i][j] = B[pad[0]*2-i][pad[1]*2-j]\n",
    "\n",
    "for i in range(pad[0], pad[0]+shape[0]):\n",
    "    for j in range(pad[1]):\n",
    "        B[i][j] = B[i][pad[1]*2-j]\n",
    "        \n",
    "for i in range(pad[0]+shape[0]-1, pad[0]+shape[0]+pad[0]):\n",
    "    for j in range(pad[1]):\n",
    "        B[i][j] = B[(pad[0]+shape[0]-1)*2-i][pad[1]*2-j]\n",
    "        \n",
    "for i in range(pad[0]+shape[0]-1, pad[0]+shape[0]+pad[0]):\n",
    "    for j in range(pad[1]+shape[0]):\n",
    "        B[i][j] = B[(pad[0]+shape[0]-1)*2-i][j]\n",
    "        \n",
    "for i in range(pad[0]+shape[0]-1, pad[0]+shape[0]+pad[0]):\n",
    "    for j in range(pad[1]+shape[1]-1, pad[1]+shape[1]+pad[1]):\n",
    "        B[i][j] = B[(pad[0]+shape[0]-1)*2-i][(pad[1]+shape[1]-1)*2-j]\n",
    "\n",
    "for i in range(pad[0], pad[0]+shape[0]):\n",
    "    for j in range(pad[1]+shape[1]-1, pad[1]+shape[1]+pad[1]):\n",
    "        B[i][j] = B[i][(pad[1]+shape[1]-1)*2-j]\n",
    "        \n",
    "for i in range(pad[0]):\n",
    "    for j in range(pad[1]+shape[1]-1, pad[1]+shape[1]+pad[1]):\n",
    "        B[i][j] = B[pad[0]*2-i][(pad[1]+shape[1]-1)*2-j]\n",
    "        \n",
    "for i in range(pad[0]):\n",
    "    for j in range(pad[0], pad[0]+shape[0]):\n",
    "        B[i][j] = B[pad[0]*2-i][j]\n",
    "B"
   ]
  },
  {
   "cell_type": "code",
   "execution_count": null,
   "metadata": {},
   "outputs": [],
   "source": [
    "B"
   ]
  },
  {
   "cell_type": "code",
   "execution_count": 103,
   "metadata": {},
   "outputs": [
    {
     "data": {
      "text/plain": [
       "True"
      ]
     },
     "execution_count": 103,
     "metadata": {},
     "output_type": "execute_result"
    }
   ],
   "source": [
    "size = (5, 5)\n",
    "pad = (size[0]//2, size[1]//2)\n",
    "shape = A.shape\n",
    "L = np.array([[0, pad[0], pad[0]+shape[0]-1, pad[0]+shape[0]+pad[0]-1],\n",
    "             [0, pad[1], pad[1]+shape[1]-1, pad[1]+shape[1]+pad[1]-1]])\n",
    "\n",
    "B = np.zeros((shape[0]+size[0]-1, shape[1]+size[1]-1))\n",
    "for i in range(shape[0]):\n",
    "    for j in range(shape[1]):\n",
    "        B[pad[0]+i][pad[1]+j] = A[i][j]\n",
    "\n",
    "for i in range(3):\n",
    "    for j in range(3):\n",
    "        if i is 1 and j is 1:\n",
    "            continue\n",
    "        for y in range(L[0,i], L[0,i+1]+1):\n",
    "            for x in range(L[1,j], L[1,j+1]+1):\n",
    "                if i is 1:\n",
    "                    B[y][x] = B[y][L[1,j//2+1]*2-x]\n",
    "                elif j is 1:\n",
    "                    B[y][x] = B[L[0,i//2+1]*2-y][x]\n",
    "                else:\n",
    "                    B[y][x] = B[L[0,i//2+1]*2-y][L[1,j//2+1]*2-x]\n",
    "        \n",
    "(B == np.pad(A, mode='reflect', pad_width=2)).all()"
   ]
  }
 ],
 "metadata": {
  "kernelspec": {
   "display_name": "Python 3",
   "language": "python",
   "name": "python3"
  },
  "language_info": {
   "codemirror_mode": {
    "name": "ipython",
    "version": 3
   },
   "file_extension": ".py",
   "mimetype": "text/x-python",
   "name": "python",
   "nbconvert_exporter": "python",
   "pygments_lexer": "ipython3",
   "version": "3.7.6"
  }
 },
 "nbformat": 4,
 "nbformat_minor": 4
}
